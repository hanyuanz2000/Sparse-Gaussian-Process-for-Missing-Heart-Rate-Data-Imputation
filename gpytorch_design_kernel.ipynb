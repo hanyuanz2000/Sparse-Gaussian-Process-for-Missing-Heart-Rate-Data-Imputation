{
 "cells": [
  {
   "cell_type": "code",
   "execution_count": 6,
   "metadata": {},
   "outputs": [],
   "source": [
    "import math\n",
    "import torch\n",
    "import gpytorch\n",
    "from matplotlib import pyplot as plt\n",
    "import numpy as np"
   ]
  },
  {
   "cell_type": "code",
   "execution_count": 7,
   "metadata": {},
   "outputs": [],
   "source": [
    "class FirstSincKernel(gpytorch.kernels.Kernel):\n",
    "    # the sinc kernel is stationary\n",
    "    is_stationary = True\n",
    "\n",
    "    # this is the kernel function\n",
    "    def forward(self, x1, x2, **params):\n",
    "        # calculate the distance between inputs\n",
    "        diff = self.covar_dist(x1, x2, **params)\n",
    "        # prevent divide by 0 errors\n",
    "        diff.where(diff == 0, torch.as_tensor(1e-20))\n",
    "        # return sinc(diff) = sin(diff) / diff\n",
    "        return torch.sin(diff).div(diff)"
   ]
  },
  {
   "cell_type": "code",
   "execution_count": 8,
   "metadata": {},
   "outputs": [],
   "source": [
    "train_x = torch.linspace(0, 1, 100)"
   ]
  },
  {
   "cell_type": "code",
   "execution_count": 18,
   "metadata": {},
   "outputs": [
    {
     "data": {
      "text/plain": [
       "(tensor([0.0000, 0.1111, 0.2222, 0.3333, 0.4444, 0.5556, 0.6667, 0.7778, 0.8889,\n",
       "         1.0000]),\n",
       " tensor([1.0000, 1.1111, 1.2222, 1.3333, 1.4444, 1.5556, 1.6667, 1.7778, 1.8889,\n",
       "         2.0000]))"
      ]
     },
     "execution_count": 18,
     "metadata": {},
     "output_type": "execute_result"
    }
   ],
   "source": [
    "x1 = train_x = torch.linspace(0, 1, 10)\n",
    "x2 = train_x = torch.linspace(1, 2, 10)\n",
    "x1, x2"
   ]
  },
  {
   "cell_type": "code",
   "execution_count": 19,
   "metadata": {},
   "outputs": [
    {
     "ename": "IndexError",
     "evalue": "Dimension out of range (expected to be in range of [-1, 0], but got -2)",
     "output_type": "error",
     "traceback": [
      "\u001b[0;31m---------------------------------------------------------------------------\u001b[0m",
      "\u001b[0;31mIndexError\u001b[0m                                Traceback (most recent call last)",
      "Cell \u001b[0;32mIn [19], line 2\u001b[0m\n\u001b[1;32m      1\u001b[0m a \u001b[39m=\u001b[39m FirstSincKernel(gpytorch\u001b[39m.\u001b[39mkernels\u001b[39m.\u001b[39mKernel)\n\u001b[0;32m----> 2\u001b[0m a\u001b[39m.\u001b[39;49mforward(x1, x2)\n",
      "Cell \u001b[0;32mIn [7], line 8\u001b[0m, in \u001b[0;36mFirstSincKernel.forward\u001b[0;34m(self, x1, x2, **params)\u001b[0m\n\u001b[1;32m      6\u001b[0m \u001b[39mdef\u001b[39;00m \u001b[39mforward\u001b[39m(\u001b[39mself\u001b[39m, x1, x2, \u001b[39m*\u001b[39m\u001b[39m*\u001b[39mparams):\n\u001b[1;32m      7\u001b[0m     \u001b[39m# calculate the distance between inputs\u001b[39;00m\n\u001b[0;32m----> 8\u001b[0m     diff \u001b[39m=\u001b[39m \u001b[39mself\u001b[39;49m\u001b[39m.\u001b[39;49mcovar_dist(x1, x2, \u001b[39m*\u001b[39;49m\u001b[39m*\u001b[39;49mparams)\n\u001b[1;32m      9\u001b[0m     \u001b[39m# prevent divide by 0 errors\u001b[39;00m\n\u001b[1;32m     10\u001b[0m     diff\u001b[39m.\u001b[39mwhere(diff \u001b[39m==\u001b[39m \u001b[39m0\u001b[39m, torch\u001b[39m.\u001b[39mas_tensor(\u001b[39m1e-20\u001b[39m))\n",
      "File \u001b[0;32m~/opt/anaconda3/envs/timeseries/lib/python3.10/site-packages/gpytorch/kernels/kernel.py:338\u001b[0m, in \u001b[0;36mKernel.covar_dist\u001b[0;34m(self, x1, x2, diag, last_dim_is_batch, square_dist, dist_postprocess_func, postprocess, **params)\u001b[0m\n\u001b[1;32m    336\u001b[0m     res \u001b[39m=\u001b[39m \u001b[39mself\u001b[39m\u001b[39m.\u001b[39mdistance_module\u001b[39m.\u001b[39m_sq_dist(x1, x2, postprocess, x1_eq_x2)\n\u001b[1;32m    337\u001b[0m \u001b[39melse\u001b[39;00m:\n\u001b[0;32m--> 338\u001b[0m     res \u001b[39m=\u001b[39m \u001b[39mself\u001b[39;49m\u001b[39m.\u001b[39;49mdistance_module\u001b[39m.\u001b[39;49m_dist(x1, x2, postprocess, x1_eq_x2)\n\u001b[1;32m    340\u001b[0m \u001b[39mreturn\u001b[39;00m res\n",
      "File \u001b[0;32m~/opt/anaconda3/envs/timeseries/lib/python3.10/site-packages/gpytorch/kernels/kernel.py:57\u001b[0m, in \u001b[0;36mDistance._dist\u001b[0;34m(self, x1, x2, postprocess, x1_eq_x2)\u001b[0m\n\u001b[1;32m     55\u001b[0m \u001b[39mdef\u001b[39;00m \u001b[39m_dist\u001b[39m(\u001b[39mself\u001b[39m, x1, x2, postprocess, x1_eq_x2\u001b[39m=\u001b[39m\u001b[39mFalse\u001b[39;00m):\n\u001b[1;32m     56\u001b[0m     \u001b[39m# TODO: use torch cdist once implementation is improved: https://github.com/pytorch/pytorch/pull/25799\u001b[39;00m\n\u001b[0;32m---> 57\u001b[0m     res \u001b[39m=\u001b[39m \u001b[39mself\u001b[39;49m\u001b[39m.\u001b[39;49m_sq_dist(x1, x2, postprocess\u001b[39m=\u001b[39;49m\u001b[39mFalse\u001b[39;49;00m, x1_eq_x2\u001b[39m=\u001b[39;49mx1_eq_x2)\n\u001b[1;32m     58\u001b[0m     res \u001b[39m=\u001b[39m res\u001b[39m.\u001b[39mclamp_min_(\u001b[39m1e-30\u001b[39m)\u001b[39m.\u001b[39msqrt_()\n\u001b[1;32m     59\u001b[0m     \u001b[39mreturn\u001b[39;00m \u001b[39mself\u001b[39m\u001b[39m.\u001b[39m_postprocess(res) \u001b[39mif\u001b[39;00m postprocess \u001b[39melse\u001b[39;00m res\n",
      "File \u001b[0;32m~/opt/anaconda3/envs/timeseries/lib/python3.10/site-packages/gpytorch/kernels/kernel.py:32\u001b[0m, in \u001b[0;36mDistance._sq_dist\u001b[0;34m(self, x1, x2, postprocess, x1_eq_x2)\u001b[0m\n\u001b[1;32m     30\u001b[0m \u001b[39mdef\u001b[39;00m \u001b[39m_sq_dist\u001b[39m(\u001b[39mself\u001b[39m, x1, x2, postprocess, x1_eq_x2\u001b[39m=\u001b[39m\u001b[39mFalse\u001b[39;00m):\n\u001b[1;32m     31\u001b[0m     \u001b[39m# TODO: use torch squared cdist once implemented: https://github.com/pytorch/pytorch/pull/25799\u001b[39;00m\n\u001b[0;32m---> 32\u001b[0m     adjustment \u001b[39m=\u001b[39m x1\u001b[39m.\u001b[39;49mmean(\u001b[39m-\u001b[39;49m\u001b[39m2\u001b[39;49m, keepdim\u001b[39m=\u001b[39;49m\u001b[39mTrue\u001b[39;49;00m)\n\u001b[1;32m     33\u001b[0m     x1 \u001b[39m=\u001b[39m x1 \u001b[39m-\u001b[39m adjustment\n\u001b[1;32m     34\u001b[0m     x2 \u001b[39m=\u001b[39m x2 \u001b[39m-\u001b[39m adjustment  \u001b[39m# x1 and x2 should be identical in all dims except -2 at this point\u001b[39;00m\n",
      "\u001b[0;31mIndexError\u001b[0m: Dimension out of range (expected to be in range of [-1, 0], but got -2)"
     ]
    }
   ],
   "source": [
    "a = FirstSincKernel(gpytorch.kernels.Kernel)\n",
    "a.forward(x1, x2)"
   ]
  },
  {
   "cell_type": "code",
   "execution_count": null,
   "metadata": {},
   "outputs": [],
   "source": []
  }
 ],
 "metadata": {
  "kernelspec": {
   "display_name": "Python 3.10.8 ('timeseries')",
   "language": "python",
   "name": "python3"
  },
  "language_info": {
   "codemirror_mode": {
    "name": "ipython",
    "version": 3
   },
   "file_extension": ".py",
   "mimetype": "text/x-python",
   "name": "python",
   "nbconvert_exporter": "python",
   "pygments_lexer": "ipython3",
   "version": "3.10.8"
  },
  "orig_nbformat": 4,
  "vscode": {
   "interpreter": {
    "hash": "5f0513de36e05a6ccc0415be9518546a654dbc7e818c3420e786cd580b885b92"
   }
  }
 },
 "nbformat": 4,
 "nbformat_minor": 2
}
